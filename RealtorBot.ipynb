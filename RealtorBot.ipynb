{
 "cells": [
  {
   "cell_type": "markdown",
   "id": "1f96fa86-1545-4eee-ae44-844cfdf1b111",
   "metadata": {},
   "source": [
    "# Introduction\n",
    "\n"
   ]
  },
  {
   "cell_type": "markdown",
   "id": "66e26a69-42f7-4a22-aa79-3a0223f3c80f",
   "metadata": {},
   "source": [
    "# Dependencies"
   ]
  },
  {
   "cell_type": "code",
   "execution_count": null,
   "id": "803ced5a-a71b-4c09-b79b-8ad7e73a1a6d",
   "metadata": {},
   "outputs": [],
   "source": [
    "!pip3 install pandas==2.0.3 openai==0.28.1 termcolor==2.3.0"
   ]
  },
  {
   "cell_type": "markdown",
   "id": "30fb491e-233b-439b-909a-cbc663607bbb",
   "metadata": {},
   "source": [
    "# Imports"
   ]
  },
  {
   "cell_type": "code",
   "execution_count": 1,
   "id": "e11ae6ab-f8bb-4ffe-8bfa-7e94fdbf500e",
   "metadata": {},
   "outputs": [],
   "source": [
    "import json\n",
    "\n",
    "import pandas as pd\n",
    "import openai\n",
    "\n",
    "from termcolor import colored"
   ]
  },
  {
   "cell_type": "markdown",
   "id": "d458e547-f5b2-4982-947d-acf82ef88d12",
   "metadata": {},
   "source": [
    "# Data Handling\n",
    "\n",
    "https://www.kaggle.com/datasets/yasserh/housing-prices-dataset/"
   ]
  },
  {
   "cell_type": "code",
   "execution_count": 56,
   "id": "d08db273-ba69-41c6-9f98-89b1cb943af6",
   "metadata": {},
   "outputs": [],
   "source": [
    "def load_housing_data(preprocess=True):\n",
    "    furn = [\"unfurnished\", \"semi-furnished\", \"furnished\"]\n",
    "    hd = pd.read_csv(\"housing_data.csv\")\n",
    "    if preprocess:\n",
    "        for col_name in [\"mainroad\", \"guestroom\", \"basement\", \"hotwaterheating\", \"airconditioning\", \"prefarea\"]:\n",
    "            hd[col_name] = hd[col_name].apply(lambda x: 0 if x == \"no\" else 1)\n",
    "        hd[\"furnishingstatus\"] = hd[\"furnishingstatus\"].apply(lambda x: furn.index(x))\n",
    "    return hd"
   ]
  },
  {
   "cell_type": "code",
   "execution_count": 57,
   "id": "b7dcb43a-84c1-4e6a-9e75-2a019afc90f6",
   "metadata": {},
   "outputs": [
    {
     "name": "stdout",
     "output_type": "stream",
     "text": [
      "price                int64\n",
      "area                 int64\n",
      "bedrooms             int64\n",
      "bathrooms            int64\n",
      "stories              int64\n",
      "mainroad            object\n",
      "guestroom           object\n",
      "basement            object\n",
      "hotwaterheating     object\n",
      "airconditioning     object\n",
      "parking              int64\n",
      "prefarea            object\n",
      "furnishingstatus    object\n",
      "dtype: object\n"
     ]
    },
    {
     "data": {
      "text/html": [
       "<div>\n",
       "<style scoped>\n",
       "    .dataframe tbody tr th:only-of-type {\n",
       "        vertical-align: middle;\n",
       "    }\n",
       "\n",
       "    .dataframe tbody tr th {\n",
       "        vertical-align: top;\n",
       "    }\n",
       "\n",
       "    .dataframe thead th {\n",
       "        text-align: right;\n",
       "    }\n",
       "</style>\n",
       "<table border=\"1\" class=\"dataframe\">\n",
       "  <thead>\n",
       "    <tr style=\"text-align: right;\">\n",
       "      <th></th>\n",
       "      <th>price</th>\n",
       "      <th>area</th>\n",
       "      <th>bedrooms</th>\n",
       "      <th>bathrooms</th>\n",
       "      <th>stories</th>\n",
       "      <th>mainroad</th>\n",
       "      <th>guestroom</th>\n",
       "      <th>basement</th>\n",
       "      <th>hotwaterheating</th>\n",
       "      <th>airconditioning</th>\n",
       "      <th>parking</th>\n",
       "      <th>prefarea</th>\n",
       "      <th>furnishingstatus</th>\n",
       "    </tr>\n",
       "  </thead>\n",
       "  <tbody>\n",
       "    <tr>\n",
       "      <th>0</th>\n",
       "      <td>13300000</td>\n",
       "      <td>7420</td>\n",
       "      <td>4</td>\n",
       "      <td>2</td>\n",
       "      <td>3</td>\n",
       "      <td>yes</td>\n",
       "      <td>no</td>\n",
       "      <td>no</td>\n",
       "      <td>no</td>\n",
       "      <td>yes</td>\n",
       "      <td>2</td>\n",
       "      <td>yes</td>\n",
       "      <td>furnished</td>\n",
       "    </tr>\n",
       "    <tr>\n",
       "      <th>1</th>\n",
       "      <td>12250000</td>\n",
       "      <td>8960</td>\n",
       "      <td>4</td>\n",
       "      <td>4</td>\n",
       "      <td>4</td>\n",
       "      <td>yes</td>\n",
       "      <td>no</td>\n",
       "      <td>no</td>\n",
       "      <td>no</td>\n",
       "      <td>yes</td>\n",
       "      <td>3</td>\n",
       "      <td>no</td>\n",
       "      <td>furnished</td>\n",
       "    </tr>\n",
       "    <tr>\n",
       "      <th>2</th>\n",
       "      <td>12250000</td>\n",
       "      <td>9960</td>\n",
       "      <td>3</td>\n",
       "      <td>2</td>\n",
       "      <td>2</td>\n",
       "      <td>yes</td>\n",
       "      <td>no</td>\n",
       "      <td>yes</td>\n",
       "      <td>no</td>\n",
       "      <td>no</td>\n",
       "      <td>2</td>\n",
       "      <td>yes</td>\n",
       "      <td>semi-furnished</td>\n",
       "    </tr>\n",
       "    <tr>\n",
       "      <th>3</th>\n",
       "      <td>12215000</td>\n",
       "      <td>7500</td>\n",
       "      <td>4</td>\n",
       "      <td>2</td>\n",
       "      <td>2</td>\n",
       "      <td>yes</td>\n",
       "      <td>no</td>\n",
       "      <td>yes</td>\n",
       "      <td>no</td>\n",
       "      <td>yes</td>\n",
       "      <td>3</td>\n",
       "      <td>yes</td>\n",
       "      <td>furnished</td>\n",
       "    </tr>\n",
       "    <tr>\n",
       "      <th>4</th>\n",
       "      <td>11410000</td>\n",
       "      <td>7420</td>\n",
       "      <td>4</td>\n",
       "      <td>1</td>\n",
       "      <td>2</td>\n",
       "      <td>yes</td>\n",
       "      <td>yes</td>\n",
       "      <td>yes</td>\n",
       "      <td>no</td>\n",
       "      <td>yes</td>\n",
       "      <td>2</td>\n",
       "      <td>no</td>\n",
       "      <td>furnished</td>\n",
       "    </tr>\n",
       "  </tbody>\n",
       "</table>\n",
       "</div>"
      ],
      "text/plain": [
       "      price  area  bedrooms  bathrooms  stories mainroad guestroom basement  \\\n",
       "0  13300000  7420         4          2        3      yes        no       no   \n",
       "1  12250000  8960         4          4        4      yes        no       no   \n",
       "2  12250000  9960         3          2        2      yes        no      yes   \n",
       "3  12215000  7500         4          2        2      yes        no      yes   \n",
       "4  11410000  7420         4          1        2      yes       yes      yes   \n",
       "\n",
       "  hotwaterheating airconditioning  parking prefarea furnishingstatus  \n",
       "0              no             yes        2      yes        furnished  \n",
       "1              no             yes        3       no        furnished  \n",
       "2              no              no        2      yes   semi-furnished  \n",
       "3              no             yes        3      yes        furnished  \n",
       "4              no             yes        2       no        furnished  "
      ]
     },
     "execution_count": 57,
     "metadata": {},
     "output_type": "execute_result"
    }
   ],
   "source": [
    "housing_data = load_housing_data(False)\n",
    "print(housing_data.dtypes)\n",
    "housing_data.head()"
   ]
  },
  {
   "cell_type": "code",
   "execution_count": 58,
   "id": "c620cd6a-4d9f-4d47-a284-290f3e80ef59",
   "metadata": {},
   "outputs": [
    {
     "name": "stdout",
     "output_type": "stream",
     "text": [
      "price               int64\n",
      "area                int64\n",
      "bedrooms            int64\n",
      "bathrooms           int64\n",
      "stories             int64\n",
      "mainroad            int64\n",
      "guestroom           int64\n",
      "basement            int64\n",
      "hotwaterheating     int64\n",
      "airconditioning     int64\n",
      "parking             int64\n",
      "prefarea            int64\n",
      "furnishingstatus    int64\n",
      "dtype: object\n"
     ]
    },
    {
     "data": {
      "text/html": [
       "<div>\n",
       "<style scoped>\n",
       "    .dataframe tbody tr th:only-of-type {\n",
       "        vertical-align: middle;\n",
       "    }\n",
       "\n",
       "    .dataframe tbody tr th {\n",
       "        vertical-align: top;\n",
       "    }\n",
       "\n",
       "    .dataframe thead th {\n",
       "        text-align: right;\n",
       "    }\n",
       "</style>\n",
       "<table border=\"1\" class=\"dataframe\">\n",
       "  <thead>\n",
       "    <tr style=\"text-align: right;\">\n",
       "      <th></th>\n",
       "      <th>price</th>\n",
       "      <th>area</th>\n",
       "      <th>bedrooms</th>\n",
       "      <th>bathrooms</th>\n",
       "      <th>stories</th>\n",
       "      <th>mainroad</th>\n",
       "      <th>guestroom</th>\n",
       "      <th>basement</th>\n",
       "      <th>hotwaterheating</th>\n",
       "      <th>airconditioning</th>\n",
       "      <th>parking</th>\n",
       "      <th>prefarea</th>\n",
       "      <th>furnishingstatus</th>\n",
       "    </tr>\n",
       "  </thead>\n",
       "  <tbody>\n",
       "    <tr>\n",
       "      <th>0</th>\n",
       "      <td>13300000</td>\n",
       "      <td>7420</td>\n",
       "      <td>4</td>\n",
       "      <td>2</td>\n",
       "      <td>3</td>\n",
       "      <td>1</td>\n",
       "      <td>0</td>\n",
       "      <td>0</td>\n",
       "      <td>0</td>\n",
       "      <td>1</td>\n",
       "      <td>2</td>\n",
       "      <td>1</td>\n",
       "      <td>2</td>\n",
       "    </tr>\n",
       "    <tr>\n",
       "      <th>1</th>\n",
       "      <td>12250000</td>\n",
       "      <td>8960</td>\n",
       "      <td>4</td>\n",
       "      <td>4</td>\n",
       "      <td>4</td>\n",
       "      <td>1</td>\n",
       "      <td>0</td>\n",
       "      <td>0</td>\n",
       "      <td>0</td>\n",
       "      <td>1</td>\n",
       "      <td>3</td>\n",
       "      <td>0</td>\n",
       "      <td>2</td>\n",
       "    </tr>\n",
       "    <tr>\n",
       "      <th>2</th>\n",
       "      <td>12250000</td>\n",
       "      <td>9960</td>\n",
       "      <td>3</td>\n",
       "      <td>2</td>\n",
       "      <td>2</td>\n",
       "      <td>1</td>\n",
       "      <td>0</td>\n",
       "      <td>1</td>\n",
       "      <td>0</td>\n",
       "      <td>0</td>\n",
       "      <td>2</td>\n",
       "      <td>1</td>\n",
       "      <td>1</td>\n",
       "    </tr>\n",
       "    <tr>\n",
       "      <th>3</th>\n",
       "      <td>12215000</td>\n",
       "      <td>7500</td>\n",
       "      <td>4</td>\n",
       "      <td>2</td>\n",
       "      <td>2</td>\n",
       "      <td>1</td>\n",
       "      <td>0</td>\n",
       "      <td>1</td>\n",
       "      <td>0</td>\n",
       "      <td>1</td>\n",
       "      <td>3</td>\n",
       "      <td>1</td>\n",
       "      <td>2</td>\n",
       "    </tr>\n",
       "    <tr>\n",
       "      <th>4</th>\n",
       "      <td>11410000</td>\n",
       "      <td>7420</td>\n",
       "      <td>4</td>\n",
       "      <td>1</td>\n",
       "      <td>2</td>\n",
       "      <td>1</td>\n",
       "      <td>1</td>\n",
       "      <td>1</td>\n",
       "      <td>0</td>\n",
       "      <td>1</td>\n",
       "      <td>2</td>\n",
       "      <td>0</td>\n",
       "      <td>2</td>\n",
       "    </tr>\n",
       "  </tbody>\n",
       "</table>\n",
       "</div>"
      ],
      "text/plain": [
       "      price  area  bedrooms  bathrooms  stories  mainroad  guestroom  \\\n",
       "0  13300000  7420         4          2        3         1          0   \n",
       "1  12250000  8960         4          4        4         1          0   \n",
       "2  12250000  9960         3          2        2         1          0   \n",
       "3  12215000  7500         4          2        2         1          0   \n",
       "4  11410000  7420         4          1        2         1          1   \n",
       "\n",
       "   basement  hotwaterheating  airconditioning  parking  prefarea  \\\n",
       "0         0                0                1        2         1   \n",
       "1         0                0                1        3         0   \n",
       "2         1                0                0        2         1   \n",
       "3         1                0                1        3         1   \n",
       "4         1                0                1        2         0   \n",
       "\n",
       "   furnishingstatus  \n",
       "0                 2  \n",
       "1                 2  \n",
       "2                 1  \n",
       "3                 2  \n",
       "4                 2  "
      ]
     },
     "execution_count": 58,
     "metadata": {},
     "output_type": "execute_result"
    }
   ],
   "source": [
    "housing_data = load_housing_data(True)\n",
    "print(housing_data.dtypes)\n",
    "housing_data.head()"
   ]
  },
  {
   "cell_type": "markdown",
   "id": "744a0344-2037-4845-8535-66fdbddd23d6",
   "metadata": {},
   "source": [
    "# OpenAI"
   ]
  },
  {
   "cell_type": "markdown",
   "id": "8ccc17b9-fd9e-42e5-9d27-eea2eb9d20fb",
   "metadata": {},
   "source": [
    "## API Key"
   ]
  },
  {
   "cell_type": "code",
   "execution_count": 59,
   "id": "b874027b-e16f-4312-83a7-bff112a63f57",
   "metadata": {},
   "outputs": [
    {
     "name": "stdout",
     "output_type": "stream",
     "text": [
      "API Key loaded\n"
     ]
    }
   ],
   "source": [
    "try:\n",
    "    openai.api_key = open(\"../api_key\", \"r\").read()\n",
    "    print(\"API Key loaded\")\n",
    "except FileNotFoundError:\n",
    "    print(\"Couldn't find the API key file\")"
   ]
  },
  {
   "cell_type": "markdown",
   "id": "f38f9d49-4ecb-4fe2-9e95-da9a1d2c70ff",
   "metadata": {},
   "source": [
    "## Functions"
   ]
  },
  {
   "cell_type": "code",
   "execution_count": null,
   "id": "8d012fde-57a2-4580-a550-f87dbf7c60ce",
   "metadata": {},
   "outputs": [],
   "source": [
    "def filter_lte(housing_data: pd.DataFrame,\n",
    "               filter_name: str,\n",
    "               filter_value: int):\n",
    "    housing_data = housing_data[housing_data[filter_name] <= filter_value]\n",
    "    return housing_data, len(housing_data)\n",
    "\n",
    "\n",
    "def filter_gte(housing_data: pd.DataFrame,\n",
    "               filter_name: str,\n",
    "               filter_value: int):\n",
    "    housing_data = housing_data[housing_data[filter_name] >= filter_value]\n",
    "    return housing_data, len(housing_data)\n",
    "\n",
    "\n",
    "available_functions = {\n",
    "    \"filter_lte\": filter_lte,\n",
    "    \"filter_gte\": filter_gte\n",
    "}"
   ]
  },
  {
   "cell_type": "markdown",
   "id": "394e3151-2738-4d7a-94f5-dbcb10dd9c53",
   "metadata": {},
   "source": [
    "## Function Specifications"
   ]
  },
  {
   "cell_type": "code",
   "execution_count": 35,
   "id": "2a5bcd62-e06e-46dc-ba9d-31ab079eed30",
   "metadata": {},
   "outputs": [],
   "source": [
    "functions = [\n",
    "    {\n",
    "        \"name\": \"filter_lte\",\n",
    "        \"description\": \"Return the number of houses for which the specified filter is less than or equal to the filter value.\",\n",
    "        \"parameters\": {\n",
    "            \"type\": \"object\",\n",
    "            \"properties\": {\n",
    "                \"filter_name\": {\n",
    "                    \"type\": \"string\",\n",
    "                    \"description\": \"The characteristic to filter by.\",\n",
    "                },\n",
    "                \"filter_value\": {\n",
    "                    \"type\": \"integer\",\n",
    "                    \"description\": \"The value of the characteristic.\",\n",
    "                }\n",
    "            },\n",
    "            \"required\": [\"filter_name\", \"filter_value\"],\n",
    "        }\n",
    "    },\n",
    "    {\n",
    "        \"name\": \"filter_gte\",\n",
    "        \"description\": \"Return the number of houses for which the specified filter is greater than or equal to the filter value.\",\n",
    "        \"parameters\": {\n",
    "            \"type\": \"object\",\n",
    "            \"properties\": {\n",
    "                \"filter_name\": {\n",
    "                    \"type\": \"string\",\n",
    "                    \"description\": \"The characteristic to filter by.\",\n",
    "                },\n",
    "                \"filter_value\": {\n",
    "                    \"type\": \"integer\",\n",
    "                    \"description\": \"The value of the characteristic.\",\n",
    "                }\n",
    "            },\n",
    "            \"required\": [\"filter_name\", \"filter_value\"],\n",
    "        }\n",
    "    }\n",
    "]"
   ]
  },
  {
   "cell_type": "markdown",
   "id": "0d5afbc2-9afd-4cf5-8c64-6d88bb55650d",
   "metadata": {},
   "source": [
    "## API Calls"
   ]
  },
  {
   "cell_type": "code",
   "execution_count": 67,
   "id": "5e475797-765d-4ddc-b21e-547b795f1d58",
   "metadata": {},
   "outputs": [],
   "source": [
    "def call_completion_api(system_content: str, convo: list, model: str = \"gpt-3.5-turbo\"):\n",
    "\n",
    "    completion = openai.ChatCompletion.create(\n",
    "        model=model,\n",
    "        messages=[{\"role\": \"system\", \"content\": system_content}] + convo,\n",
    "        functions=functions\n",
    "    )\n",
    "\n",
    "    return completion.choices[0][\"message\"]\n",
    "\n",
    "\n",
    "def converse(system_content):\n",
    "    housing_data = load_housing_data()\n",
    "    system_content = system_content.format(len(housing_data))\n",
    "\n",
    "    convo = []\n",
    "    assistant_message = None\n",
    "    while True:\n",
    "        if assistant_message is None:\n",
    "            assistant_message = call_completion_api(system_content, convo)\n",
    "        convo.append(assistant_message.to_dict_recursive())\n",
    "        print(colored(assistant_message.content, \"blue\"))\n",
    "        \n",
    "        # Get the user's input\n",
    "        user_input = input(\"> \")\n",
    "        if user_input == \"q\":\n",
    "            break\n",
    "\n",
    "        # Add it to the convo\n",
    "        convo.append(wrap_user_content(user_input))\n",
    "\n",
    "        # Get ChatGPT response\n",
    "        assistant_message = call_completion_api(system_content, convo)\n",
    "        if assistant_message.get(\"function_call\"):\n",
    "            convo.append(assistant_message.to_dict_recursive())\n",
    "            print(colored(assistant_message.function_call, \"red\"))\n",
    "\n",
    "            # Extract the function call info\n",
    "            function_name = assistant_message[\"function_call\"][\"name\"]\n",
    "            function_to_call = available_functions[function_name]\n",
    "            function_args = json.loads(assistant_message[\"function_call\"][\"arguments\"])\n",
    "\n",
    "            # Call the function\n",
    "            housing_data, expected_response = function_to_call(\n",
    "                housing_data=housing_data,\n",
    "                filter_name=function_args.get(\"filter_name\"),\n",
    "                filter_value=function_args.get(\"filter_value\")\n",
    "            )\n",
    "\n",
    "            # Add function result to convo\n",
    "            convo.append(wrap_function_content(function_name, expected_response))\n",
    "            assistant_message = None\n",
    "        # else:\n",
    "        #     convo.append(assistant_message.to_dict_recursive())\n",
    "        #     print(colored(assistant_message.content, \"blue\"))\n",
    "            \n",
    "    \n",
    "    return convo\n",
    "\n",
    "\n",
    "def wrap_user_content(input: str):\n",
    "    return {\"role\": \"user\", \"content\": input}\n",
    "\n",
    "\n",
    "def wrap_function_content(function_name: str, function_response):\n",
    "    return {\"role\": \"function\", \"name\": function_name, \"content\": str(function_response)}"
   ]
  },
  {
   "cell_type": "code",
   "execution_count": 73,
   "id": "1f5c056e-7dd9-48bd-8fa7-ad4d36a62346",
   "metadata": {},
   "outputs": [
    {
     "name": "stdout",
     "output_type": "stream",
     "text": [
      "\u001b[34mHello! How can I assist you today with your property search?\u001b[0m\n"
     ]
    },
    {
     "name": "stdin",
     "output_type": "stream",
     "text": [
      ">  I'm looking for a house. The budget is 5000000.\n"
     ]
    },
    {
     "name": "stdout",
     "output_type": "stream",
     "text": [
      "\u001b[31m{\n",
      "  \"name\": \"filter_lte\",\n",
      "  \"arguments\": \"{\\n\\\"filter_name\\\": \\\"price\\\",\\n\\\"filter_value\\\": 5000000\\n}\"\n",
      "}\u001b[0m\n",
      "\u001b[34mGreat! Based on your budget of 5000000, there are currently 350 properties available. Let's continue narrowing down the options. \n",
      "Could you please provide additional preferences such as the desired area, number of bedrooms, bathrooms, or any specific requirements?\u001b[0m\n"
     ]
    },
    {
     "name": "stdin",
     "output_type": "stream",
     "text": [
      ">  do you have any personal feelings on the matter?\n"
     ]
    },
    {
     "name": "stdout",
     "output_type": "stream",
     "text": [
      "\u001b[34mAs a neutral realtor, my goal is to provide you with accurate information and assist you in finding a property that meets your needs and preferences. I can offer guidance and advice based on market trends and industry knowledge, but ultimately, the decision is yours. Please let me know how I can further assist you in your property search.\u001b[0m\n"
     ]
    },
    {
     "name": "stdin",
     "output_type": "stream",
     "text": [
      ">  i want a bungalow\n"
     ]
    },
    {
     "name": "stdout",
     "output_type": "stream",
     "text": [
      "\u001b[31m{\n",
      "  \"name\": \"filter_lte\",\n",
      "  \"arguments\": \"{\\n\\\"filter_name\\\": \\\"stories\\\",\\n\\\"filter_value\\\": 1\\n}\"\n",
      "}\u001b[0m\n",
      "\u001b[34mSure! If you're specifically looking for a bungalow, there are currently 169 properties available. Let's continue narrowing down the options. Do you have any specific preferences for the area, number of bedrooms, bathrooms, or any other requirements?\u001b[0m\n"
     ]
    },
    {
     "name": "stdin",
     "output_type": "stream",
     "text": [
      ">  q\n"
     ]
    }
   ],
   "source": [
    "REALTOR_SYSTEM_CONTENT = \\\n",
    "\"\"\"\n",
    "You are a helpful realtor with a list initially containing {} properties.\n",
    "Greet the customer and offer to help narrow this selection based on the customer's requirements.\n",
    "For each property, we have the following characteristics:\n",
    "    price (asking price in USD),\n",
    "    area (total floor area in metres squared),\n",
    "    bedrooms (number of bedrooms),\n",
    "    bathrooms (number of bathrooms),\n",
    "    stories (number of stories),\n",
    "    mainroad (1 if the property is on a main road, otherwise 0),\n",
    "    guestroom (1 if the property has a guestroom, otherwise 0),\n",
    "    basement (1 if the property has a basement, otherwise 0),\n",
    "    hotwaterheating (1 if the property has a water heating system, otherwise 0),\n",
    "    airconditioning (1 if the property has air conditioning, otherwise 0),\n",
    "    parking (number of parking spaces),\n",
    "    prefarea (1 if the property is in a trendy neighbourhood, otherwise 0),\n",
    "    furnishingstatus (0 if unfurnished, 1 if semi-furnished, 2 if fully furnished)\n",
    "Help the user to narrow the list.\n",
    "When there are fewer than 10, advise the user to call the office to arrange viewings.\n",
    "\"\"\"\n",
    "\n",
    "# I'm looking for a house. The budget is 5000000.\n",
    "\n",
    "convo = converse(REALTOR_SYSTEM_CONTENT)"
   ]
  },
  {
   "cell_type": "code",
   "execution_count": 74,
   "id": "6066be88-9f70-4a49-a1fc-5abd0b966b21",
   "metadata": {},
   "outputs": [
    {
     "name": "stdout",
     "output_type": "stream",
     "text": [
      "{'role': 'assistant', 'content': 'Hello! How can I assist you today with your property search?'}\n",
      "{'role': 'user', 'content': \"I'm looking for a house. The budget is 5000000.\"}\n",
      "{'role': 'assistant', 'content': None, 'function_call': {'name': 'filter_lte', 'arguments': '{\\n\"filter_name\": \"price\",\\n\"filter_value\": 5000000\\n}'}}\n",
      "{'role': 'function', 'name': 'filter_lte', 'content': '350'}\n",
      "{'role': 'assistant', 'content': \"Great! Based on your budget of 5000000, there are currently 350 properties available. Let's continue narrowing down the options. \\nCould you please provide additional preferences such as the desired area, number of bedrooms, bathrooms, or any specific requirements?\"}\n",
      "{'role': 'user', 'content': 'do you have any personal feelings on the matter?'}\n",
      "{'role': 'assistant', 'content': 'As a neutral realtor, my goal is to provide you with accurate information and assist you in finding a property that meets your needs and preferences. I can offer guidance and advice based on market trends and industry knowledge, but ultimately, the decision is yours. Please let me know how I can further assist you in your property search.'}\n",
      "{'role': 'user', 'content': 'i want a bungalow'}\n",
      "{'role': 'assistant', 'content': None, 'function_call': {'name': 'filter_lte', 'arguments': '{\\n\"filter_name\": \"stories\",\\n\"filter_value\": 1\\n}'}}\n",
      "{'role': 'function', 'name': 'filter_lte', 'content': '169'}\n",
      "{'role': 'assistant', 'content': \"Sure! If you're specifically looking for a bungalow, there are currently 169 properties available. Let's continue narrowing down the options. Do you have any specific preferences for the area, number of bedrooms, bathrooms, or any other requirements?\"}\n"
     ]
    }
   ],
   "source": [
    "for m in convo:\n",
    "    print(m)"
   ]
  }
 ],
 "metadata": {
  "kernelspec": {
   "display_name": "housing",
   "language": "python",
   "name": "housing"
  },
  "language_info": {
   "codemirror_mode": {
    "name": "ipython",
    "version": 3
   },
   "file_extension": ".py",
   "mimetype": "text/x-python",
   "name": "python",
   "nbconvert_exporter": "python",
   "pygments_lexer": "ipython3",
   "version": "3.8.0"
  }
 },
 "nbformat": 4,
 "nbformat_minor": 5
}
